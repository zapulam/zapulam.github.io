{
 "cells": [
  {
   "cell_type": "markdown",
   "metadata": {},
   "source": [
    "# Resize images"
   ]
  },
  {
   "cell_type": "code",
   "execution_count": 3,
   "metadata": {},
   "outputs": [],
   "source": [
    "from PIL import Image\n",
    "import os\n",
    "\n",
    "def resize_images(input_folder, output_folder, width, height):\n",
    "    if not os.path.exists(output_folder):\n",
    "        os.makedirs(output_folder)\n",
    "\n",
    "    for i, filename in enumerate(os.listdir(input_folder)):\n",
    "        try:\n",
    "            with Image.open(os.path.join(input_folder, filename)) as img:\n",
    "                resized_img = img.resize((width, height))\n",
    "                resized_img.save(os.path.join(output_folder, str(i) + '.jpg'))\n",
    "        except Exception as e:\n",
    "            print(f\"Failed to process {filename}: {e}\")\n",
    "\n",
    "# Set your desired width and height\n",
    "desired_width = 2000\n",
    "desired_height = 3000\n",
    "\n",
    "# Replace 'input_folder' and 'output_folder' with your folder paths\n",
    "input_folder_path = 'img/trips/kiawah_2023/'\n",
    "output_folder_path = 'img/trips/kiawah_2023_2/'\n",
    "\n",
    "resize_images(input_folder_path, output_folder_path, desired_width, desired_height)"
   ]
  }
 ],
 "metadata": {
  "kernelspec": {
   "display_name": "ds",
   "language": "python",
   "name": "python3"
  },
  "language_info": {
   "codemirror_mode": {
    "name": "ipython",
    "version": 3
   },
   "file_extension": ".py",
   "mimetype": "text/x-python",
   "name": "python",
   "nbconvert_exporter": "python",
   "pygments_lexer": "ipython3",
   "version": "3.9.7"
  }
 },
 "nbformat": 4,
 "nbformat_minor": 2
}
